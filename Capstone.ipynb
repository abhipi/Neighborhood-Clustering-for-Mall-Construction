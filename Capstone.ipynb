{
  "nbformat": 4,
  "nbformat_minor": 0,
  "metadata": {
    "colab": {
      "name": "Capstone.ipynb",
      "provenance": [],
      "authorship_tag": "ABX9TyMKIspoX5GhFxJvYBs13TZw"
    },
    "kernelspec": {
      "name": "python3",
      "display_name": "Python 3"
    }
  },
  "cells": [
    {
      "cell_type": "markdown",
      "metadata": {
        "id": "F-5XWKxMi5Qn"
      },
      "source": [
        "<b><h1>Construction of Shopping Malls in Mumbai, India<h1><b>\r\n"
      ]
    },
    {
      "cell_type": "markdown",
      "metadata": {
        "id": "472mpsuTjj0t"
      },
      "source": [
        "<b>Introduction</b>"
      ]
    },
    {
      "cell_type": "markdown",
      "metadata": {
        "id": "uhrOb4BskKYy"
      },
      "source": [
        "*Shopping is a great way for tourists as well as locals to enjoy,relax and treat themselves to something new and exciting. This activity has become extremely popular in recent times. Although life was brought to a standstill due to the Coronavirus pandemic,in a lot of countries, including India, shops have begun opening up, resulting in the return of this trend. Property developers are also taking advantage of this to tap into the enormous market out there. As a result, Mumbai, the commercial capital of India, has a ton of shopping centres, and numerous ones are being currently constructed. These malls allow developers to have a consistent income.However, not all malls are successful; their locations also have to be taken into consideration.This factor is what truly determines a mall's success or failure.*"
      ]
    },
    {
      "cell_type": "markdown",
      "metadata": {
        "id": "kbNKcWVzp94Y"
      },
      "source": [
        "<b>Business Problem</b>"
      ]
    },
    {
      "cell_type": "markdown",
      "metadata": {
        "id": "RQMI4__6qGTH"
      },
      "source": [
        "*The objective of this project is to analyze and select the best locations in the city of Mumbai, India, to open a new shopping mall. This project is mainly focused on geospatial analysis of Mumbai to understand which would be the best place to open a new mall. Using data science methodology and machine learning techniques like clustering, this project aims to provide solutions to answer the business question: In Mumbai, if a property developer is looking to open a new shopping mall, where would you recommend that they open it?*"
      ]
    },
    {
      "cell_type": "markdown",
      "metadata": {
        "id": "-CUW2qTOqlJd"
      },
      "source": [
        "<b>Data</b>"
      ]
    },
    {
      "cell_type": "markdown",
      "metadata": {
        "id": "ICMZznzDxg6m"
      },
      "source": [
        "####Requirements\r\n",
        "\r\n",
        "To solve this problem, we need geographical location data for Mumbai.We need to obtain the following data:\r\n",
        "<ul>\r\n",
        "<li>List of neighbourhoods in Mumbai</li>\r\n",
        "<li>Latitude and Longitude data of these neighbourhoods</li>\r\n",
        "<li>Venue data (related to shopping malls)</li> "
      ]
    },
    {
      "cell_type": "markdown",
      "metadata": {
        "id": "jr1VPFEay2RR"
      },
      "source": [
        "####<b>Sources</b>\r\n",
        "\r\n",
        "We scrape data from this wikipedia page to derive our solution:\r\n",
        "https://en.wikipedia.org/wiki/Category:Neighbourhoods_in_Mumbai\r\n",
        "\r\n",
        "This page has all the neighbouroods in Mumbai, making it an important and effective source.\r\n",
        "\r\n",
        "<b>Foursquare API data</b>\r\n",
        "\r\n",
        "We will need data about different venues in different neighbourhoods. In order to gain that information we will use \"Foursquare\" locational information. Foursquare is a location data provider with information about all manner of venues and events within an area of interest. Such information includes venue names, locations, menus and even photos. As such, the foursquare location platform will be used as the sole data source since all the stated required information can be obtained through the API.\r\n",
        "\r\n",
        "After finding the list of neighbourhoods, we then connect to the Foursquare API to gather information about venues inside each and every neighbourhood.\r\n",
        "\r\n",
        "<i><h3>Finally, we have all the data required to build our model. Using this, our stakeholders can make important decisions</h3></i>"
      ]
    },
    {
      "cell_type": "code",
      "metadata": {
        "id": "q0iHL0sDzv1y"
      },
      "source": [
        ""
      ],
      "execution_count": null,
      "outputs": []
    }
  ]
}